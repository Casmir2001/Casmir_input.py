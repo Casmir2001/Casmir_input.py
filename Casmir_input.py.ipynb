{
 "cells": [
  {
   "cell_type": "markdown",
   "id": "3a4263ad",
   "metadata": {},
   "source": [
    "## plp python week 1"
   ]
  },
  {
   "cell_type": "code",
   "execution_count": null,
   "id": "7b9f47e4",
   "metadata": {},
   "outputs": [],
   "source": []
  },
  {
   "cell_type": "code",
   "execution_count": 1,
   "id": "7abb07e2",
   "metadata": {},
   "outputs": [
    {
     "name": "stdout",
     "output_type": "stream",
     "text": [
      "Enter your name:Casmir\n",
      "Enter your age:22\n",
      "Enter your location:Keroka\n",
      "Hello Casmir, you are 22 years old and you live in Keroka\n"
     ]
    }
   ],
   "source": [
    "# to ask user their name\n",
    "name= input(\"Enter your name:\")\n",
    "# to ask user to enter their age\n",
    "age= input(\"Enter your age:\")\n",
    "# to ask user their location\n",
    "location= input(\"Enter your location:\")\n",
    "print(f\"Hello {name}, you are {age} years old and you live in {location}\")"
   ]
  },
  {
   "cell_type": "code",
   "execution_count": null,
   "id": "f6930910",
   "metadata": {},
   "outputs": [],
   "source": []
  },
  {
   "cell_type": "code",
   "execution_count": null,
   "id": "c3ce77af",
   "metadata": {},
   "outputs": [],
   "source": []
  },
  {
   "cell_type": "code",
   "execution_count": null,
   "id": "e86f9cb9",
   "metadata": {},
   "outputs": [],
   "source": []
  }
 ],
 "metadata": {
  "kernelspec": {
   "display_name": "Python 3 (ipykernel)",
   "language": "python",
   "name": "python3"
  },
  "language_info": {
   "codemirror_mode": {
    "name": "ipython",
    "version": 3
   },
   "file_extension": ".py",
   "mimetype": "text/x-python",
   "name": "python",
   "nbconvert_exporter": "python",
   "pygments_lexer": "ipython3",
   "version": "3.10.9"
  }
 },
 "nbformat": 4,
 "nbformat_minor": 5
}
